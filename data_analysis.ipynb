{
 "cells": [
  {
   "cell_type": "code",
   "execution_count": 1,
   "id": "c581d3c3-71fb-4ed5-8aa7-162e1dcb8dda",
   "metadata": {},
   "outputs": [],
   "source": [
    "import pandas as pd\n",
    "from pandas.plotting import scatter_matrix\n",
    "import matplotlib.pyplot as plt\n",
    "import numpy as np\n"
   ]
  },
  {
   "cell_type": "code",
   "execution_count": 2,
   "id": "cb97be78-2c58-45e3-94bc-2e16c30e05a6",
   "metadata": {},
   "outputs": [
    {
     "name": "stdout",
     "output_type": "stream",
     "text": [
      "   gender group parental education        lunch preparation  math  reading  \\\n",
      "0  female     B           bachelor     standard        none    72       72   \n",
      "1  female     C            college     standard   completed    69       90   \n",
      "2  female     B             master     standard        none    90       95   \n",
      "3    male     A          associate  nonstandard        none    47       57   \n",
      "4    male     C            college     standard        none    76       78   \n",
      "\n",
      "   writing        avg  \n",
      "0       74  72.666667  \n",
      "1       88  82.333333  \n",
      "2       93  92.666667  \n",
      "3       44  49.333333  \n",
      "4       75  76.333333  \n"
     ]
    }
   ],
   "source": [
    "df = pd.read_csv('data/processed_data.csv') #df = Data Frame\n",
    "print(df.head())"
   ]
  },
  {
   "cell_type": "code",
   "execution_count": 3,
   "id": "727ba978-743f-48fd-80d1-8fc5170fa84a",
   "metadata": {},
   "outputs": [
    {
     "data": {
      "text/plain": [
       "<AxesSubplot:ylabel='parental education'>"
      ]
     },
     "execution_count": 3,
     "metadata": {},
     "output_type": "execute_result"
    },
    {
     "data": {
      "image/png": "[encoded data removed]",
      "text/plain": [
       "<Figure size 432x288 with 1 Axes>"
      ]
     },
     "metadata": {},
     "output_type": "display_data"
    }
   ],
   "source": [
    "'''\n",
    "    2D Visualisierungen\n",
    "'''\n",
    "\n",
    "#pandas\n",
    "\n",
    "df['parental education'].value_counts().plot(kind='pie')\n"
   ]
  },
  {
   "cell_type": "code",
   "execution_count": 4,
   "id": "e9be6e61-de83-4f2d-8b26-69d059b0610c",
   "metadata": {},
   "outputs": [
    {
     "data": {
      "text/plain": [
       "Text(0, 0.5, 'reading')"
      ]
     },
     "execution_count": 4,
     "metadata": {},
     "output_type": "execute_result"
    },
    {
     "data": {
      "image/png": "[encoded data removed]",
      "text/plain": [
       "<Figure size 432x288 with 1 Axes>"
      ]
     },
     "metadata": {
      "needs_background": "light"
     },
     "output_type": "display_data"
    }
   ],
   "source": [
    "#matplotlib\n",
    "fig, ax = plt.subplots()\n",
    "\n",
    "ax.scatter(df['math'], df['reading']) #select axies\n",
    "\n",
    "ax.set_title('Compare Math with Reading Score')\n",
    "ax.set_xlabel('math')\n",
    "ax.set_ylabel('reading')\n"
   ]
  },
  {
   "cell_type": "code",
   "execution_count": 5,
   "id": "2204e01f-4d12-401b-81f2-a782f1e051a5",
   "metadata": {},
   "outputs": [
    {
     "data": {
      "application/vnd.jupyter.widget-view+json": {
       "model_id": "00471f2809394ff2bdb61856d7d764f1",
       "version_major": 2,
       "version_minor": 0
      },
      "text/plain": [
       "Canvas(toolbar=Toolbar(toolitems=[('Home', 'Reset original view', 'home', 'home'), ('Back', 'Back to previous …"
      ]
     },
     "metadata": {},
     "output_type": "display_data"
    },
    {
     "data": {
      "text/plain": [
       "<mpl_toolkits.mplot3d.art3d.Path3DCollection at 0x7fde66c88220>"
      ]
     },
     "execution_count": 5,
     "metadata": {},
     "output_type": "execute_result"
    }
   ],
   "source": [
    "'''\n",
    "3D Visualisierungen\n",
    "'''\n",
    "%matplotlib widget\n",
    "\n",
    "from mpl_toolkits.mplot3d import Axes3D\n",
    "\n",
    "fig = plt.subplot(projection='3d') \n",
    "fig.set_xlabel('math')\n",
    "fig.set_ylabel('writing')\n",
    "fig.set_zlabel('reading')\n",
    "\n",
    "fig.scatter(df['math'], df['writing'], df['reading'])\n",
    "\n"
   ]
  },
  {
   "cell_type": "code",
   "execution_count": null,
   "id": "f0a08d9d-1368-40fa-b262-3a5cedfc6068",
   "metadata": {},
   "outputs": [],
   "source": []
  },
  {
   "cell_type": "code",
   "execution_count": null,
   "id": "297fe80d-0687-4d25-9a5b-c79ad9c9f9f7",
   "metadata": {},
   "outputs": [],
   "source": []
  },
  {
   "cell_type": "code",
   "execution_count": null,
   "id": "7f41856a-74ec-4887-b40e-e1a05513cf5c",
   "metadata": {},
   "outputs": [],
   "source": [
    "\n",
    "\n"
   ]
  },
  {
   "cell_type": "code",
   "execution_count": null,
   "id": "941b1495-ec16-4f3d-afc9-f08859554a71",
   "metadata": {},
   "outputs": [],
   "source": [
    "\n",
    "\n"
   ]
  },
  {
   "cell_type": "code",
   "execution_count": null,
   "id": "07490f64-9ae9-42a9-aab5-03d46b9e7eb2",
   "metadata": {},
   "outputs": [],
   "source": []
  },
  {
   "cell_type": "code",
   "execution_count": null,
   "id": "8cf29a05-7917-4e81-b43a-61f1bd14caee",
   "metadata": {},
   "outputs": [],
   "source": []
  }
 ],
 "metadata": {
  "kernelspec": {
   "display_name": "Python 3",
   "language": "python",
   "name": "python3"
  },
  "language_info": {
   "codemirror_mode": {
    "name": "ipython",
    "version": 3
   },
   "file_extension": ".py",
   "mimetype": "text/x-python",
   "name": "python",
   "nbconvert_exporter": "python",
   "pygments_lexer": "ipython3",
   "version": "3.9.4"
  }
 },
 "nbformat": 4,
 "nbformat_minor": 5
}
